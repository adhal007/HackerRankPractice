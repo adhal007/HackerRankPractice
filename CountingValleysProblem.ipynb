{
 "cells": [
  {
   "cell_type": "code",
   "execution_count": 2,
   "metadata": {},
   "outputs": [],
   "source": [
    "#!/bin/python3\n",
    "\n",
    "import math\n",
    "import os\n",
    "import random\n",
    "import re\n",
    "import sys"
   ]
  },
  {
   "cell_type": "code",
   "execution_count": 3,
   "metadata": {},
   "outputs": [
    {
     "name": "stdout",
     "output_type": "stream",
     "text": [
      "User's Environment variable:\n",
      "{'ALLUSERSPROFILE': 'C:\\\\ProgramData',\n",
      " 'APPDATA': 'C:\\\\Users\\\\adhal\\\\AppData\\\\Roaming',\n",
      " 'CLICOLOR': '1',\n",
      " 'COMMONPROGRAMFILES': 'C:\\\\Program '\n",
      "                       'Files\\\\Common '\n",
      "                       'Files',\n",
      " 'COMMONPROGRAMFILES(X86)': 'C:\\\\Program '\n",
      "                            'Files '\n",
      "                            '(x86)\\\\Common '\n",
      "                            'Files',\n",
      " 'COMMONPROGRAMW6432': 'C:\\\\Program '\n",
      "                       'Files\\\\Common '\n",
      "                       'Files',\n",
      " 'COMPUTERNAME': 'DESKTOP-ENC2DSB',\n",
      " 'COMSPEC': 'C:\\\\WINDOWS\\\\system32\\\\cmd.exe',\n",
      " 'CONDA_DEFAULT_ENV': 'base',\n",
      " 'CONDA_EXE': 'C:\\\\Users\\\\adhal\\\\Anaconda3\\\\Scripts\\\\conda.exe',\n",
      " 'CONDA_PREFIX': 'C:\\\\Users\\\\adhal\\\\Anaconda3',\n",
      " 'CONDA_PROMPT_MODIFIER': '(base) ',\n",
      " 'CONDA_PYTHON_EXE': 'C:\\\\Users\\\\adhal\\\\Anaconda3\\\\python.exe',\n",
      " 'CONDA_SHLVL': '1',\n",
      " 'DRIVERDATA': 'C:\\\\Windows\\\\System32\\\\Drivers\\\\DriverData',\n",
      " 'FPS_BROWSER_APP_PROFILE_STRING': 'Internet '\n",
      "                                   'Explorer',\n",
      " 'FPS_BROWSER_USER_PROFILE_STRING': 'Default',\n",
      " 'GIT_LFS_PATH': 'C:\\\\Program '\n",
      "                 'Files\\\\Git '\n",
      "                 'LFS',\n",
      " 'GIT_PAGER': 'cat',\n",
      " 'GNUPLOT_LIB': 'C:\\\\Program '\n",
      "                'Files\\\\gnuplot\\\\demo',\n",
      " 'HOMEDRIVE': 'C:',\n",
      " 'HOMEPATH': '\\\\Users\\\\adhal',\n",
      " 'IPY_INTERRUPT_EVENT': '2600',\n",
      " 'JPY_INTERRUPT_EVENT': '2600',\n",
      " 'JPY_PARENT_PID': '2620',\n",
      " 'LOCALAPPDATA': 'C:\\\\Users\\\\adhal\\\\AppData\\\\Local',\n",
      " 'LOGONSERVER': '\\\\\\\\DESKTOP-ENC2DSB',\n",
      " 'MPLBACKEND': 'module://ipykernel.pylab.backend_inline',\n",
      " 'NUMBER_OF_PROCESSORS': '4',\n",
      " 'ONEDRIVE': 'C:\\\\Users\\\\adhal\\\\OneDrive',\n",
      " 'ONEDRIVECONSUMER': 'C:\\\\Users\\\\adhal\\\\OneDrive',\n",
      " 'OS': 'Windows_NT',\n",
      " 'PAGER': 'cat',\n",
      " 'PATH': 'C:\\\\Users\\\\adhal\\\\Anaconda3;C:\\\\Users\\\\adhal\\\\Anaconda3\\\\Library\\\\mingw-w64\\\\bin;C:\\\\Users\\\\adhal\\\\Anaconda3\\\\Library\\\\usr\\\\bin;C:\\\\Users\\\\adhal\\\\Anaconda3\\\\Library\\\\bin;C:\\\\Users\\\\adhal\\\\Anaconda3\\\\Scripts;C:\\\\Users\\\\adhal\\\\Anaconda3\\\\bin;C:\\\\Users\\\\adhal\\\\Anaconda3\\\\condabin;C:\\\\WINDOWS\\\\system32;C:\\\\WINDOWS;C:\\\\WINDOWS\\\\System32\\\\Wbem;C:\\\\WINDOWS\\\\System32\\\\WindowsPowerShell\\\\v1.0;C:\\\\WINDOWS\\\\System32\\\\OpenSSH;C:\\\\Program '\n",
      "         'Files\\\\PuTTY;C:\\\\Program '\n",
      "         'Files\\\\Java\\\\jdk-11.0.2\\\\bin;C:\\\\Users\\\\adhal\\\\AppData\\\\Roaming\\\\Microsoft\\\\Windows\\\\Start '\n",
      "         'Menu\\\\Programs\\\\Anaconda3 '\n",
      "         '(64-bit);C:\\\\Users\\\\adhal\\\\Anaconda3\\\\pkgs\\\\python-3.7.2-h8c8aaf0_0;C:\\\\Users\\\\adhal\\\\Anaconda3\\\\pkgs\\\\jupyter_client-5.2.4-py37_0\\\\Scripts;C:\\\\Users\\\\adhal\\\\Anaconda3\\\\Scripts;C:\\\\Users\\\\adhal\\\\Anaconda3\\\\pkgs\\\\jupyter_client-5.2.4-py37_0\\\\Scripts\\\\jupyter-run-script.py;C:\\\\Program '\n",
      "         'Files\\\\nodejs;C:\\\\Users\\\\adhal\\\\AppData\\\\Local\\\\Julia-1.1.0\\\\bin;C:\\\\Program '\n",
      "         'Files\\\\NVIDIA '\n",
      "         'Corporation\\\\NVIDIA '\n",
      "         'NvDLISR;C:\\\\WINDOWS\\\\system32\\\\config\\\\systemprofile\\\\.dnx\\\\bin;C:\\\\Program '\n",
      "         'Files\\\\Microsoft '\n",
      "         'DNX\\\\Dnvm;C:\\\\Program '\n",
      "         'Files\\\\Microsoft '\n",
      "         'SQL '\n",
      "         'Server\\\\130\\\\Tools\\\\Binn;C:\\\\Program '\n",
      "         'Files\\\\apache-maven-3.6.1\\\\bin;C:\\\\Program '\n",
      "         'Files\\\\Git '\n",
      "         'LFS;C:\\\\Program '\n",
      "         'Files\\\\R\\\\R-3.6.0\\\\bin\\\\x64;.;C:\\\\WINDOWS\\\\system32;C:\\\\WINDOWS;C:\\\\WINDOWS\\\\System32\\\\Wbem;C:\\\\WINDOWS\\\\System32\\\\WindowsPowerShell\\\\v1.0;C:\\\\WINDOWS\\\\System32\\\\OpenSSH;C:\\\\WINDOWS\\\\system32;D:\\\\Google-SDK;C:\\\\Users\\\\adhal\\\\AppData\\\\Local\\\\Microsoft\\\\WindowsApps;C:\\\\Program '\n",
      "         'Files\\\\Java\\\\jdk-11.0.2\\\\bin;C:\\\\Users\\\\adhal\\\\AppData\\\\Roaming\\\\Microsoft\\\\Windows\\\\Start '\n",
      "         'Menu\\\\Programs\\\\Anaconda3 '\n",
      "         '(64-bit);C:\\\\Users\\\\adhal\\\\Anaconda3\\\\pkgs\\\\python-3.7.2-h8c8aaf0_0;C:\\\\Users\\\\adhal\\\\Anaconda3\\\\pkgs\\\\jupyter_client-5.2.4-py37_0\\\\Scripts;C:\\\\Users\\\\adhal\\\\Anaconda3\\\\Scripts;C:\\\\Users\\\\adhal\\\\Anaconda3\\\\pkgs\\\\jupyter_client-5.2.4-py37_0\\\\python.exe;C:\\\\Users\\\\adhal\\\\Anaconda3\\\\pkgs\\\\jupyter_client-5.2.4-py37_0\\\\Scripts\\\\jupyter-run-script.py;C:\\\\Users\\\\adhal\\\\AppData\\\\Roaming\\\\npm;C:\\\\Users\\\\adhal\\\\AppData\\\\Local\\\\Julia-1.1.0\\\\bin;D:\\\\Google-SDK\\\\google-cloud-sdk\\\\bin;C:\\\\Program '\n",
      "         'Files\\\\R\\\\R-3.6.0\\\\bin\\\\x64;C:\\\\Users\\\\adhal\\\\AppData\\\\Local\\\\Microsoft\\\\WindowsApps;C:\\\\Users\\\\adhal\\\\AppData\\\\Local\\\\atom\\\\bin;C:\\\\Users\\\\adhal\\\\AppData\\\\Local\\\\Programs\\\\Microsoft '\n",
      "         'VS '\n",
      "         'Code\\\\bin',\n",
      " 'PATHEXT': '.COM;.EXE;.BAT;.CMD;.VBS;.VBE;.JS;.JSE;.WSF;.WSH;.MSC',\n",
      " 'PROCESSOR_ARCHITECTURE': 'AMD64',\n",
      " 'PROCESSOR_IDENTIFIER': 'Intel64 '\n",
      "                         'Family '\n",
      "                         '6 '\n",
      "                         'Model '\n",
      "                         '78 '\n",
      "                         'Stepping '\n",
      "                         '3, '\n",
      "                         'GenuineIntel',\n",
      " 'PROCESSOR_LEVEL': '6',\n",
      " 'PROCESSOR_REVISION': '4e03',\n",
      " 'PROGRAMDATA': 'C:\\\\ProgramData',\n",
      " 'PROGRAMFILES': 'C:\\\\Program '\n",
      "                 'Files',\n",
      " 'PROGRAMFILES(X86)': 'C:\\\\Program '\n",
      "                      'Files '\n",
      "                      '(x86)',\n",
      " 'PROGRAMW6432': 'C:\\\\Program '\n",
      "                 'Files',\n",
      " 'PROMPT': '(base) '\n",
      "           '$P$G',\n",
      " 'PSMODULEPATH': ';D:\\\\Google-SDK\\\\google-cloud-sdk\\\\platform\\\\PowerShell',\n",
      " 'PUBLIC': 'C:\\\\Users\\\\Public',\n",
      " 'SESSIONNAME': 'Console',\n",
      " 'SYSTEMDRIVE': 'C:',\n",
      " 'SYSTEMROOT': 'C:\\\\WINDOWS',\n",
      " 'TEMP': 'C:\\\\Users\\\\adhal\\\\AppData\\\\Local\\\\Temp',\n",
      " 'TERM': 'xterm-color',\n",
      " 'TMP': 'C:\\\\Users\\\\adhal\\\\AppData\\\\Local\\\\Temp',\n",
      " 'USERDOMAIN': 'DESKTOP-ENC2DSB',\n",
      " 'USERDOMAIN_ROAMINGPROFILE': 'DESKTOP-ENC2DSB',\n",
      " 'USERNAME': 'adhal',\n",
      " 'USERPROFILE': 'C:\\\\Users\\\\adhal',\n",
      " 'VS140COMNTOOLS': 'C:\\\\Program '\n",
      "                   'Files '\n",
      "                   '(x86)\\\\Microsoft '\n",
      "                   'Visual '\n",
      "                   'Studio '\n",
      "                   '14.0\\\\Common7\\\\Tools\\\\',\n",
      " 'WINDIR': 'C:\\\\WINDOWS'}\n"
     ]
    }
   ],
   "source": [
    "# importing os module  \n",
    "import os \n",
    "import pprint \n",
    "  \n",
    "# Get the list of user's \n",
    "# environment variables \n",
    "env_var = os.environ \n",
    "  \n",
    "# Print the list of user's \n",
    "# environment variables \n",
    "print(\"User's Environment variable:\") \n",
    "pprint.pprint(dict(env_var), width = 1) "
   ]
  },
  {
   "cell_type": "code",
   "execution_count": null,
   "metadata": {},
   "outputs": [],
   "source": [
    "# Complete the countingValleys function below.\n",
    "def countingValleys(n, s):\n",
    "    if __name__ == '__main__':\n",
    "        fptr = open(os.environ['USERNAME'], 'w')\n",
    "\n",
    "        n = int(input())\n",
    "\n",
    "        s = input()\n",
    "\n",
    "        sum_count = 0\n",
    "        valley_count = 0\n",
    "        for i in s:\n",
    "            if i == 'U':\n",
    "                sum_count = sum_count + 1\n",
    "            \n",
    "            if i == 'D':\n",
    "                sum_count = sum_count - 1\n",
    "            \n",
    "            if sum_count == 0 and i == 'U':\n",
    "                valley_count += 1\n",
    "        \n",
    "    return valley_count\n",
    "\n",
    "result = countingValleys(, 'UDDDUDUU')\n",
    "\n",
    "fptr.write(str(result) + '\\n')\n",
    "\n",
    "fptr.close()"
   ]
  },
  {
   "cell_type": "code",
   "execution_count": null,
   "metadata": {},
   "outputs": [],
   "source": [
    "x = [0, 0, 1, 0, 0]"
   ]
  },
  {
   "cell_type": "code",
   "execution_count": null,
   "metadata": {},
   "outputs": [],
   "source": [
    "for i in range(le)"
   ]
  },
  {
   "cell_type": "code",
   "execution_count": null,
   "metadata": {},
   "outputs": [],
   "source": [
    "countingValleys(8, 'UDDDUDUU')"
   ]
  },
  {
   "cell_type": "code",
   "execution_count": null,
   "metadata": {},
   "outputs": [],
   "source": [
    "12\n",
    "DDUUDDUDUUUD"
   ]
  },
  {
   "cell_type": "code",
   "execution_count": null,
   "metadata": {},
   "outputs": [],
   "source": [
    "result = countingValleys(n, s)\n",
    "\n",
    "fptr.write(str(result) + '\\n')\n",
    "\n",
    "fptr.close()"
   ]
  }
 ],
 "metadata": {
  "@webio": {
   "lastCommId": null,
   "lastKernelId": null
  },
  "kernelspec": {
   "display_name": "Python 3",
   "language": "python",
   "name": "python3"
  },
  "language_info": {
   "codemirror_mode": {
    "name": "ipython",
    "version": 3
   },
   "file_extension": ".py",
   "mimetype": "text/x-python",
   "name": "python",
   "nbconvert_exporter": "python",
   "pygments_lexer": "ipython3",
   "version": "3.7.1"
  }
 },
 "nbformat": 4,
 "nbformat_minor": 2
}
