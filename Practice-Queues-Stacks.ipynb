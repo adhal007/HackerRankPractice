{
 "cells": [
  {
   "cell_type": "code",
   "execution_count": 3,
   "metadata": {},
   "outputs": [],
   "source": [
    "from queue import Queue \n"
   ]
  },
  {
   "cell_type": "code",
   "execution_count": 11,
   "metadata": {},
   "outputs": [],
   "source": [
    "class myStack():\n",
    "    def __init__(self):\n",
    "        self.q1 = Queue()\n",
    "        self.q2 = Queue()\n",
    "        self.curr_size = 0\n",
    "    \n",
    "    def peek(self):\n",
    "        if self.q1.empty():\n",
    "            return \n",
    "        return self.q1.queue[0]\n",
    "    \n",
    "    def push(self, x):\n",
    "        self.curr_size += 1\n",
    "        self.q2.put(x)\n",
    "        while(not self.q1.empty()):\n",
    "            self.q2.put(self.q1.queue[0])\n",
    "            self.q1.get()\n",
    "        \n",
    "        self.q = self.q1\n",
    "        self.q1 = self.q2\n",
    "        self.q2 = self.q\n",
    "    \n",
    "    def pop(self):\n",
    "        if self.q1.empty():\n",
    "            return -1\n",
    "        self.q1.get()\n",
    "        self.curr_size -= 1\n",
    "        "
   ]
  },
  {
   "cell_type": "code",
   "execution_count": 12,
   "metadata": {},
   "outputs": [
    {
     "name": "stdout",
     "output_type": "stream",
     "text": [
      "10\n",
      "1 14\n",
      "3\n",
      "14\n",
      "128\n",
      "14\n",
      "1 28\n",
      "3\n",
      "28\n",
      "1 4\n",
      "1 3\n",
      "3\n",
      "3\n",
      "1 6\n",
      "3\n",
      "6\n"
     ]
    }
   ],
   "source": [
    "queue = myStack()\n",
    "t = int(input())\n",
    "for line in range(t):\n",
    "    values = map(int, input().split())\n",
    "    values = list(values)\n",
    "    if values[0] == 1:\n",
    "        queue.push(values[1])        \n",
    "    elif values[0] == 2:\n",
    "        queue.pop()\n",
    "    else:\n",
    "        print(queue.peek())"
   ]
  },
  {
   "cell_type": "markdown",
   "metadata": {},
   "source": [
    "## queues using stacks"
   ]
  },
  {
   "cell_type": "code",
   "execution_count": 13,
   "metadata": {},
   "outputs": [],
   "source": [
    "class myQueue():\n",
    "    def __init__(self):\n",
    "        self.s1 = []\n",
    "        self.s2 = []\n",
    "    \n",
    "    def copynew2old(self):\n",
    "        if len(self.s1) == 0:\n",
    "            while len(self.s2) > 0:\n",
    "                self.s1.append(self.s2.pop())\n",
    "                \n",
    "    def peek(self):\n",
    "        self.copynew2old()\n",
    "        return self.s1[len(self.s1)-1]\n",
    "    \n",
    "    def put(self, x):\n",
    "        self.s2.append(x)\n",
    "    \n",
    "    def pop(self):\n",
    "        self.copynew2old()\n",
    "        self.s1.pop()\n",
    "        "
   ]
  },
  {
   "cell_type": "code",
   "execution_count": null,
   "metadata": {},
   "outputs": [
    {
     "name": "stdout",
     "output_type": "stream",
     "text": [
      "10\n",
      "1 14\n",
      "3\n",
      "14\n",
      "1 28\n",
      "3\n",
      "14\n",
      "1 56\n",
      "3\n",
      "14\n"
     ]
    }
   ],
   "source": [
    "queue = myQueue()\n",
    "t = int(input())\n",
    "for line in range(t):\n",
    "    values = map(int, input().split())\n",
    "    values = list(values)\n",
    "    if values[0] == 1:\n",
    "        queue.put(values[1])        \n",
    "    elif values[0] == 2:\n",
    "        queue.pop()\n",
    "    else:\n",
    "        print(queue.peek())\n",
    "\n"
   ]
  },
  {
   "cell_type": "code",
   "execution_count": null,
   "metadata": {},
   "outputs": [],
   "source": []
  }
 ],
 "metadata": {
  "@webio": {
   "lastCommId": null,
   "lastKernelId": null
  },
  "kernelspec": {
   "display_name": "Python 3",
   "language": "python",
   "name": "python3"
  },
  "language_info": {
   "codemirror_mode": {
    "name": "ipython",
    "version": 3
   },
   "file_extension": ".py",
   "mimetype": "text/x-python",
   "name": "python",
   "nbconvert_exporter": "python",
   "pygments_lexer": "ipython3",
   "version": "3.7.1"
  }
 },
 "nbformat": 4,
 "nbformat_minor": 2
}
